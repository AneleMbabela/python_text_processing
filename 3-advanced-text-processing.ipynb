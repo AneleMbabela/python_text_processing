{
 "cells": [
  {
   "cell_type": "code",
   "execution_count": 8,
   "id": "55b4793e",
   "metadata": {},
   "outputs": [
    {
     "name": "stderr",
     "output_type": "stream",
     "text": [
      "[nltk_data] Error loading pubkt: Package 'pubkt' not found in index\n",
      "[nltk_data] Downloading package stopwords to\n",
      "[nltk_data]     C:\\Users\\phumlani\\AppData\\Roaming\\nltk_data...\n",
      "[nltk_data]   Package stopwords is already up-to-date!\n",
      "[nltk_data] Downloading package wordnet to\n",
      "[nltk_data]     C:\\Users\\phumlani\\AppData\\Roaming\\nltk_data...\n",
      "[nltk_data]   Package wordnet is already up-to-date!\n"
     ]
    },
    {
     "name": "stdout",
     "output_type": "stream",
     "text": [
      "\n",
      " Total tokens :  62\n"
     ]
    }
   ],
   "source": [
    "#Prepare data for use in this exercise\n",
    "\n",
    "import nltk\n",
    "import os\n",
    "# Download punkt package used part of the other commands\n",
    "nltk.download('pubkt')\n",
    "\n",
    "\n",
    "#Read the base file into a token list\n",
    "base_file = open(os.getcwd()+ \"./datasets/Spark-Course-Description.txt\", 'rt')\n",
    "raw_text = base_file.read()\n",
    "base_file.close()\n",
    "\n",
    "#Execute the same pre-processing done in module 3\n",
    "token_list = nltk.word_tokenize(raw_text)\n",
    "\n",
    "token_list2 = list(filter(lambda token: nltk.tokenize.punkt.PunktToken(token).is_non_punct, token_list))\n",
    "\n",
    "token_list3 = [word.lower() for word in token_list2 ]\n",
    "\n",
    "nltk.download('stopwords')\n",
    "from nltk.corpus import stopwords\n",
    "token_list4 = list(filter(lambda token: token not in stopwords.words('english'), token_list3))\n",
    "\n",
    "nltk.download('wordnet')\n",
    "from nltk.stem import WordNetLemmatizer\n",
    "lemmatizer = WordNetLemmatizer()\n",
    "token_list6 = [lemmatizer.lemmatize(word) for word in token_list4]\n",
    "\n",
    "print(\"\\n Total tokens : \",len(token_list6))\n"
   ]
  },
  {
   "cell_type": "markdown",
   "id": "b46eecaf",
   "metadata": {},
   "source": [
    "### Building ngrams"
   ]
  },
  {
   "cell_type": "code",
   "execution_count": 11,
   "id": "833ac088",
   "metadata": {},
   "outputs": [
    {
     "name": "stdout",
     "output_type": "stream",
     "text": [
      "\n",
      " Most common bigrams : \n",
      "[(('big', 'data'), 3), (('data', 'pipeline'), 2), (('data', 'technology'), 2), (('apache', 'spark'), 2), (('order', 'construct'), 1)]\n",
      "\n",
      " Most common trigrams : \n",
      "[(('big', 'data'), 3), (('data', 'pipeline'), 2), (('data', 'technology'), 2), (('apache', 'spark'), 2), (('order', 'construct'), 1)]\n"
     ]
    }
   ],
   "source": [
    "from nltk.util import ngrams\n",
    "from collections import Counter\n",
    "\n",
    "# Find bigrams and print the most common 5\n",
    "bigrams = ngrams(token_list6,2)\n",
    "print(\"\\n Most common bigrams : \")\n",
    "print(Counter(bigrams).most_common(5))\n",
    "\n",
    "# Find bigrams and print the most common 5\n",
    "trigrams = ngrams(token_list6,2)\n",
    "print(\"\\n Most common trigrams : \")\n",
    "print(Counter(trigrams).most_common(5))"
   ]
  },
  {
   "cell_type": "markdown",
   "id": "008adb60",
   "metadata": {},
   "source": [
    "### Parts of speech tagging\n",
    "\n",
    "Some example of parts of speech abbreviation NN: noun NNS: noun plural VBP: Verb singular present"
   ]
  },
  {
   "cell_type": "code",
   "execution_count": 12,
   "id": "0771343d",
   "metadata": {},
   "outputs": [
    {
     "name": "stderr",
     "output_type": "stream",
     "text": [
      "[nltk_data] Downloading package averaged_perceptron_tagger to\n",
      "[nltk_data]     C:\\Users\\phumlani\\AppData\\Roaming\\nltk_data...\n",
      "[nltk_data]   Unzipping taggers\\averaged_perceptron_tagger.zip.\n"
     ]
    },
    {
     "data": {
      "text/plain": [
       "[('order', 'NN'),\n",
       " ('construct', 'NN'),\n",
       " ('data', 'NNS'),\n",
       " ('pipelines', 'NNS'),\n",
       " ('networks', 'NNS'),\n",
       " ('stream', 'VBP'),\n",
       " ('process', 'NN'),\n",
       " ('store', 'NN'),\n",
       " ('data', 'NNS'),\n",
       " ('data', 'NNS')]"
      ]
     },
     "execution_count": 12,
     "metadata": {},
     "output_type": "execute_result"
    }
   ],
   "source": [
    "# download the togger package\n",
    "nltk.download('averaged_perceptron_tagger')\n",
    "\n",
    "nltk.pos_tag(token_list4)[:10]"
   ]
  },
  {
   "cell_type": "markdown",
   "id": "92fb072f",
   "metadata": {},
   "source": [
    "### Building TF-IDf matrix"
   ]
  },
  {
   "cell_type": "code",
   "execution_count": 15,
   "id": "d7f0bfb0",
   "metadata": {},
   "outputs": [
    {
     "name": "stdout",
     "output_type": "stream",
     "text": [
      "Tokens used as features are : \n",
      "['america', 'basketball', 'league', 'nba', 'popular', 'telecast', 'tv']\n",
      "\n",
      " Size of array. Each row represents a document. Each column represents a feature/token\n",
      "(3, 7)\n",
      "\n",
      " actual TF-IDF array\n"
     ]
    },
    {
     "data": {
      "text/plain": [
       "array([[0.        , 0.38537163, 0.65249088, 0.65249088, 0.        ,\n",
       "        0.        , 0.        ],\n",
       "       [0.54783215, 0.42544054, 0.        , 0.        , 0.72033345,\n",
       "        0.        , 0.        ],\n",
       "       [0.44451431, 0.34520502, 0.        , 0.        , 0.        ,\n",
       "        0.5844829 , 0.5844829 ]])"
      ]
     },
     "execution_count": 15,
     "metadata": {},
     "output_type": "execute_result"
    }
   ],
   "source": [
    "# Use scikit-learn library\n",
    "from sklearn.feature_extraction.text import TfidfVectorizer\n",
    "import pandas as pd\n",
    "\n",
    "# Use a small corpus for each visualization\n",
    "vector_corpus = [\n",
    "    'NBA is a Basketball league',\n",
    "    'Basketball is popular in America.',\n",
    "    'TV in America telecast basketball.',\n",
    "]\n",
    "\n",
    "# Create a vectoorizer for english language\n",
    "vectorizer = TfidfVectorizer(stop_words='english')\n",
    "\n",
    "# Create the vector\n",
    "tfidf = vectorizer.fit_transform(vector_corpus)\n",
    "\n",
    "print(\"Tokens used as features are : \")\n",
    "print(vectorizer.get_feature_names())\n",
    "\n",
    "print(\"\\n Size of array. Each row represents a document. Each column represents a feature/token\")\n",
    "print(tfidf.shape)\n",
    "\n",
    "print('\\n actual TF-IDF array')\n",
    "tfidf.toarray()"
   ]
  },
  {
   "cell_type": "code",
   "execution_count": null,
   "id": "641e4801",
   "metadata": {},
   "outputs": [],
   "source": []
  }
 ],
 "metadata": {
  "kernelspec": {
   "display_name": "Python 3 (ipykernel)",
   "language": "python",
   "name": "python3"
  },
  "language_info": {
   "codemirror_mode": {
    "name": "ipython",
    "version": 3
   },
   "file_extension": ".py",
   "mimetype": "text/x-python",
   "name": "python",
   "nbconvert_exporter": "python",
   "pygments_lexer": "ipython3",
   "version": "3.9.7"
  }
 },
 "nbformat": 4,
 "nbformat_minor": 5
}
