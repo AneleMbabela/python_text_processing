{
 "cells": [
  {
   "cell_type": "markdown",
   "id": "51905935",
   "metadata": {},
   "source": [
    "# Reading raw files\n",
    "\n",
    "Python supports a number of standard and custom libraries to read files of all types into python variables"
   ]
  },
  {
   "cell_type": "code",
   "execution_count": 6,
   "id": "4e587ef6",
   "metadata": {},
   "outputs": [
    {
     "name": "stdout",
     "output_type": "stream",
     "text": [
      "Data read from file :  In order to construct data pipelines and networks that stream, process, and store data, data engineers and data-science DevOps specialists must understand how to combine multiple big data technologies\n"
     ]
    }
   ],
   "source": [
    "import os\n",
    "\n",
    "# read the file using standard python libraries\n",
    "with open(os.getcwd()+\"./datasets/Spark-Course-Description.txt\", 'r') as fh:\n",
    "    filedata = fh.read()\n",
    "    \n",
    "#print first 200 characters in the file\n",
    "print(\"Data read from file : \", filedata[0:200])"
   ]
  },
  {
   "cell_type": "markdown",
   "id": "6c015a79",
   "metadata": {},
   "source": [
    "# Reading using NLTK Corpus reader\n",
    "\n",
    "Read the same text file using a Corpus reader\n",
    "\n",
    "NLTK supports multiple CorpusReaders depending upon the type of data source. \n"
   ]
  },
  {
   "cell_type": "code",
   "execution_count": null,
   "id": "65d26eba",
   "metadata": {},
   "outputs": [],
   "source": []
  }
 ],
 "metadata": {
  "kernelspec": {
   "display_name": "Python 3 (ipykernel)",
   "language": "python",
   "name": "python3"
  },
  "language_info": {
   "codemirror_mode": {
    "name": "ipython",
    "version": 3
   },
   "file_extension": ".py",
   "mimetype": "text/x-python",
   "name": "python",
   "nbconvert_exporter": "python",
   "pygments_lexer": "ipython3",
   "version": "3.9.7"
  }
 },
 "nbformat": 4,
 "nbformat_minor": 5
}
